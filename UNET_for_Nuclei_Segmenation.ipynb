{
 "cells": [
  {
   "cell_type": "code",
   "execution_count": 36,
   "metadata": {},
   "outputs": [],
   "source": [
    "import tensorflow as tf"
   ]
  },
  {
   "cell_type": "code",
   "execution_count": 37,
   "metadata": {},
   "outputs": [],
   "source": [
    "import os"
   ]
  },
  {
   "cell_type": "code",
   "execution_count": 38,
   "metadata": {},
   "outputs": [],
   "source": [
    "import random\n",
    "import numpy as np"
   ]
  },
  {
   "cell_type": "code",
   "execution_count": 39,
   "metadata": {},
   "outputs": [],
   "source": [
    "from tqdm import tqdm"
   ]
  },
  {
   "cell_type": "code",
   "execution_count": 40,
   "metadata": {},
   "outputs": [],
   "source": [
    "from skimage.io import imread, imshow\n",
    "from skimage.transform import resize\n",
    "import matplotlib.pyplot as plt"
   ]
  },
  {
   "cell_type": "code",
   "execution_count": null,
   "metadata": {},
   "outputs": [],
   "source": []
  },
  {
   "cell_type": "code",
   "execution_count": 41,
   "metadata": {},
   "outputs": [],
   "source": [
    "Train_path = 'Unet/stage1_train/'\n",
    "Test_path = 'Unet/stage1_test/'"
   ]
  },
  {
   "cell_type": "code",
   "execution_count": 44,
   "metadata": {},
   "outputs": [
    {
     "data": {
      "text/plain": [
       "17"
      ]
     },
     "execution_count": 44,
     "metadata": {},
     "output_type": "execute_result"
    }
   ],
   "source": [
    "len(Test_path)"
   ]
  },
  {
   "cell_type": "code",
   "execution_count": 45,
   "metadata": {},
   "outputs": [],
   "source": [
    "train_ids = next(os.walk(Train_path))[1]\n",
    "test_ids = next(os.walk(Test_path))[1]"
   ]
  },
  {
   "cell_type": "code",
   "execution_count": 47,
   "metadata": {},
   "outputs": [],
   "source": [
    "X_train = np.zeros((len(train_ids), Img_height, Img_width, Img_channels), dtype = np.uint8)\n",
    "Y_train = np.zeros((len(train_ids), Img_height, Img_width, 1), dtype = np.bool)"
   ]
  },
  {
   "cell_type": "code",
   "execution_count": 50,
   "metadata": {},
   "outputs": [
    {
     "name": "stderr",
     "output_type": "stream",
     "text": [
      "  0%|                                                                                          | 0/670 [00:00<?, ?it/s]"
     ]
    },
    {
     "name": "stdout",
     "output_type": "stream",
     "text": [
      "Resizing training images and masks\n"
     ]
    },
    {
     "name": "stderr",
     "output_type": "stream",
     "text": [
      "100%|████████████████████████████████████████████████████████████████████████████████| 670/670 [13:05<00:00,  1.17s/it]\n"
     ]
    }
   ],
   "source": [
    "# Train Images\n",
    "\n",
    "print('Resizing training images and masks')\n",
    "for n, id_ in tqdm(enumerate(train_ids), total = len(train_ids)):\n",
    "    path = Train_path + id_\n",
    "    img = imread(path + '/images/' + id_ + '.png')[:, :, :Img_channels]\n",
    "    img = resize(img, (Img_height, Img_width), mode = 'constant', preserve_range = True)\n",
    "    X_train[n] = img  ### Fill empty X_train with values from img\n",
    "    mask = np.zeros((Img_height, Img_width, 1), dtype = np.bool)\n",
    "    for mask_file in next(os.walk(path + '/masks/'))[2]:\n",
    "        mask_ = imread(path + '/masks/' + mask_file)\n",
    "        mask_ = np.expand_dims(resize(mask_, (Img_height, Img_width), mode = 'constant', preserve_range = True), axis = -1)\n",
    "        mask = np.maximum(mask, mask_)\n",
    "        \n",
    "    Y_train[n] = mask"
   ]
  },
  {
   "cell_type": "code",
   "execution_count": 63,
   "metadata": {},
   "outputs": [
    {
     "name": "stderr",
     "output_type": "stream",
     "text": [
      "  8%|██████▍                                                                            | 5/65 [00:00<00:01, 47.74it/s]"
     ]
    },
    {
     "name": "stdout",
     "output_type": "stream",
     "text": [
      "resizing test images\n"
     ]
    },
    {
     "name": "stderr",
     "output_type": "stream",
     "text": [
      "100%|██████████████████████████████████████████████████████████████████████████████████| 65/65 [00:01<00:00, 34.47it/s]"
     ]
    },
    {
     "name": "stdout",
     "output_type": "stream",
     "text": [
      "done!\n"
     ]
    },
    {
     "name": "stderr",
     "output_type": "stream",
     "text": [
      "\n"
     ]
    }
   ],
   "source": [
    "# Test Images\n",
    "\n",
    "X_test = np.zeros((len(test_ids), Img_height, Img_width, Img_channels), dtype = np.uint8)\n",
    "sizes_test = []\n",
    "print('resizing test images')\n",
    "for n, id_ in tqdm(enumerate(test_ids), total = len(test_ids)):\n",
    "    path = Test_path + id_\n",
    "    img = imread(path + '/images/' + id_ + '.png')[:, :, :Img_channels]\n",
    "    sizes_test.append([img.shape[0], img.shape[1]])\n",
    "    img = resize(img, (Img_height, Img_width), mode = 'constant', preserve_range = True)\n",
    "    X_test[n] = img\n",
    "    \n",
    "print('done!')"
   ]
  },
  {
   "cell_type": "code",
   "execution_count": 65,
   "metadata": {},
   "outputs": [
    {
     "data": {
      "image/png": "[encoded data removed]",
      "text/plain": [
       "<Figure size 432x288 with 1 Axes>"
      ]
     },
     "metadata": {
      "needs_background": "light"
     },
     "output_type": "display_data"
    },
    {
     "data": {
      "image/png": "[encoded data removed]",
      "text/plain": [
       "<Figure size 432x288 with 1 Axes>"
      ]
     },
     "metadata": {
      "needs_background": "light"
     },
     "output_type": "display_data"
    }
   ],
   "source": [
    "image_x = random.randint(0, len(train_ids))\n",
    "imshow(X_train[image_x])\n",
    "plt.show()\n",
    "imshow(np.squeeze(Y_train[image_x]))\n",
    "plt.show()"
   ]
  },
  {
   "cell_type": "code",
   "execution_count": 54,
   "metadata": {},
   "outputs": [],
   "source": [
    "Img_width = 128\n",
    "Img_height = 128\n",
    "Img_channels = 3"
   ]
  },
  {
   "cell_type": "markdown",
   "metadata": {},
   "source": [
    "#### Model Building"
   ]
  },
  {
   "cell_type": "markdown",
   "metadata": {},
   "source": [
    "## UNET"
   ]
  },
  {
   "cell_type": "code",
   "execution_count": 66,
   "metadata": {},
   "outputs": [
    {
     "name": "stdout",
     "output_type": "stream",
     "text": [
      "Model: \"model_1\"\n",
      "__________________________________________________________________________________________________\n",
      " Layer (type)                   Output Shape         Param #     Connected to                     \n",
      "==================================================================================================\n",
      " input_17 (InputLayer)          [(None, 128, 128, 3  0           []                               \n",
      "                                )]                                                                \n",
      "                                                                                                  \n",
      " lambda_16 (Lambda)             (None, 128, 128, 3)  0           ['input_17[0][0]']               \n",
      "                                                                                                  \n",
      " conv2d_184 (Conv2D)            (None, 128, 128, 16  448         ['lambda_16[0][0]']              \n",
      "                                )                                                                 \n",
      "                                                                                                  \n",
      " dropout_92 (Dropout)           (None, 128, 128, 16  0           ['conv2d_184[0][0]']             \n",
      "                                )                                                                 \n",
      "                                                                                                  \n",
      " conv2d_185 (Conv2D)            (None, 128, 128, 16  2320        ['dropout_92[0][0]']             \n",
      "                                )                                                                 \n",
      "                                                                                                  \n",
      " max_pooling2d_48 (MaxPooling2D  (None, 64, 64, 16)  0           ['conv2d_185[0][0]']             \n",
      " )                                                                                                \n",
      "                                                                                                  \n",
      " conv2d_186 (Conv2D)            (None, 64, 64, 32)   4640        ['max_pooling2d_48[0][0]']       \n",
      "                                                                                                  \n",
      " dropout_93 (Dropout)           (None, 64, 64, 32)   0           ['conv2d_186[0][0]']             \n",
      "                                                                                                  \n",
      " conv2d_187 (Conv2D)            (None, 64, 64, 32)   9248        ['dropout_93[0][0]']             \n",
      "                                                                                                  \n",
      " max_pooling2d_49 (MaxPooling2D  (None, 32, 32, 32)  0           ['conv2d_187[0][0]']             \n",
      " )                                                                                                \n",
      "                                                                                                  \n",
      " conv2d_188 (Conv2D)            (None, 32, 32, 64)   18496       ['max_pooling2d_49[0][0]']       \n",
      "                                                                                                  \n",
      " dropout_94 (Dropout)           (None, 32, 32, 64)   0           ['conv2d_188[0][0]']             \n",
      "                                                                                                  \n",
      " conv2d_189 (Conv2D)            (None, 32, 32, 64)   36928       ['dropout_94[0][0]']             \n",
      "                                                                                                  \n",
      " max_pooling2d_50 (MaxPooling2D  (None, 16, 16, 64)  0           ['conv2d_189[0][0]']             \n",
      " )                                                                                                \n",
      "                                                                                                  \n",
      " conv2d_190 (Conv2D)            (None, 16, 16, 128)  73856       ['max_pooling2d_50[0][0]']       \n",
      "                                                                                                  \n",
      " dropout_95 (Dropout)           (None, 16, 16, 128)  0           ['conv2d_190[0][0]']             \n",
      "                                                                                                  \n",
      " conv2d_191 (Conv2D)            (None, 16, 16, 128)  147584      ['dropout_95[0][0]']             \n",
      "                                                                                                  \n",
      " max_pooling2d_51 (MaxPooling2D  (None, 8, 8, 128)   0           ['conv2d_191[0][0]']             \n",
      " )                                                                                                \n",
      "                                                                                                  \n",
      " conv2d_192 (Conv2D)            (None, 8, 8, 256)    295168      ['max_pooling2d_51[0][0]']       \n",
      "                                                                                                  \n",
      " dropout_96 (Dropout)           (None, 8, 8, 256)    0           ['conv2d_192[0][0]']             \n",
      "                                                                                                  \n",
      " conv2d_193 (Conv2D)            (None, 8, 8, 256)    590080      ['dropout_96[0][0]']             \n",
      "                                                                                                  \n",
      " conv2d_transpose_32 (Conv2DTra  (None, 16, 16, 128)  131200     ['conv2d_193[0][0]']             \n",
      " nspose)                                                                                          \n",
      "                                                                                                  \n",
      " concatenate_31 (Concatenate)   (None, 16, 16, 256)  0           ['conv2d_transpose_32[0][0]',    \n",
      "                                                                  'conv2d_191[0][0]']             \n",
      "                                                                                                  \n",
      " conv2d_194 (Conv2D)            (None, 16, 16, 128)  295040      ['concatenate_31[0][0]']         \n",
      "                                                                                                  \n",
      " dropout_97 (Dropout)           (None, 16, 16, 128)  0           ['conv2d_194[0][0]']             \n",
      "                                                                                                  \n",
      " conv2d_195 (Conv2D)            (None, 16, 16, 128)  147584      ['dropout_97[0][0]']             \n",
      "                                                                                                  \n",
      " conv2d_transpose_33 (Conv2DTra  (None, 32, 32, 64)  32832       ['conv2d_195[0][0]']             \n",
      " nspose)                                                                                          \n",
      "                                                                                                  \n",
      " concatenate_32 (Concatenate)   (None, 32, 32, 128)  0           ['conv2d_transpose_33[0][0]',    \n",
      "                                                                  'conv2d_189[0][0]']             \n",
      "                                                                                                  \n",
      " conv2d_196 (Conv2D)            (None, 32, 32, 64)   73792       ['concatenate_32[0][0]']         \n",
      "                                                                                                  \n",
      " dropout_98 (Dropout)           (None, 32, 32, 64)   0           ['conv2d_196[0][0]']             \n",
      "                                                                                                  \n",
      " conv2d_197 (Conv2D)            (None, 32, 32, 64)   36928       ['dropout_98[0][0]']             \n",
      "                                                                                                  \n",
      " conv2d_transpose_34 (Conv2DTra  (None, 64, 64, 32)  8224        ['conv2d_197[0][0]']             \n",
      " nspose)                                                                                          \n",
      "                                                                                                  \n",
      " concatenate_33 (Concatenate)   (None, 64, 64, 64)   0           ['conv2d_transpose_34[0][0]',    \n",
      "                                                                  'conv2d_187[0][0]']             \n",
      "                                                                                                  \n",
      " conv2d_transpose_35 (Conv2DTra  (None, 128, 128, 16  4112       ['concatenate_33[0][0]']         \n",
      " nspose)                        )                                                                 \n",
      "                                                                                                  \n",
      " concatenate_34 (Concatenate)   (None, 128, 128, 32  0           ['conv2d_transpose_35[0][0]',    \n",
      "                                )                                 'conv2d_185[0][0]']             \n",
      "                                                                                                  \n",
      " conv2d_200 (Conv2D)            (None, 128, 128, 16  4624        ['concatenate_34[0][0]']         \n",
      "                                )                                                                 \n",
      "                                                                                                  \n",
      " dropout_100 (Dropout)          (None, 128, 128, 16  0           ['conv2d_200[0][0]']             \n",
      "                                )                                                                 \n",
      "                                                                                                  \n",
      " conv2d_201 (Conv2D)            (None, 128, 128, 16  2320        ['dropout_100[0][0]']            \n",
      "                                )                                                                 \n",
      "                                                                                                  \n",
      " conv2d_202 (Conv2D)            (None, 128, 128, 1)  17          ['conv2d_201[0][0]']             \n",
      "                                                                                                  \n",
      "==================================================================================================\n",
      "Total params: 1,915,441\n",
      "Trainable params: 1,915,441\n",
      "Non-trainable params: 0\n",
      "__________________________________________________________________________________________________\n"
     ]
    }
   ],
   "source": [
    "### Contractive path\n",
    "\n",
    "inputs = tf.keras.layers.Input((Img_width, Img_height, Img_channels))\n",
    "\n",
    "s = tf.keras.layers.Lambda(lambda x: x / 255)(inputs)\n",
    "c1 = tf.keras.layers.Conv2D(16, (3,3), activation = 'relu', kernel_initializer = 'he_normal', padding = 'same')(s)\n",
    "c1 = tf.keras.layers.Dropout(0.1)(c1)\n",
    "c1 = tf.keras.layers.Conv2D(16, (3,3), activation = 'relu', kernel_initializer = 'he_normal', padding = 'same')(c1)\n",
    "p1 = tf.keras.layers.MaxPooling2D((2,2))(c1)\n",
    "\n",
    "c2 = tf.keras.layers.Conv2D(32, (3,3), activation = 'relu', kernel_initializer = 'he_normal', padding = 'same')(p1)\n",
    "c2 = tf.keras.layers.Dropout(0.1)(c2)\n",
    "c2 = tf.keras.layers.Conv2D(32, (3,3), activation = 'relu', kernel_initializer = 'he_normal', padding = 'same')(c2)\n",
    "p2 = tf.keras.layers.MaxPooling2D((2,2))(c2)\n",
    "\n",
    "c3 = tf.keras.layers.Conv2D(64, (3, 3), activation = 'relu', kernel_initializer = 'he_normal', padding = 'same')(p2)\n",
    "c3 = tf.keras.layers.Dropout(0.2)(c3)\n",
    "c3 = tf.keras.layers.Conv2D(64, (3,3), activation = 'relu', kernel_initializer = 'he_normal', padding = 'same')(c3)\n",
    "p3 = tf.keras.layers.MaxPooling2D((2,2))(c3)\n",
    "\n",
    "c4 = tf.keras.layers.Conv2D(128, (3,3), activation = 'relu', kernel_initializer = 'he_normal', padding = 'same')(p3)\n",
    "c4 = tf.keras.layers.Dropout(0.2)(c4)\n",
    "c4 = tf.keras.layers.Conv2D(128, (3,3), activation = 'relu', kernel_initializer = 'he_normal', padding = 'same')(c4)\n",
    "p4 = tf.keras.layers.MaxPooling2D((2,2))(c4)\n",
    "\n",
    "c5 = tf.keras.layers.Conv2D(256, (3,3), activation = 'relu', kernel_initializer = 'he_normal', padding = 'same')(p4)\n",
    "c5 = tf.keras.layers.Dropout(0.3)(c5)\n",
    "c5 = tf.keras.layers.Conv2D(256, (3,3), activation = 'relu', kernel_initializer = 'he_normal', padding = 'same')(c5)\n",
    "\n",
    "\n",
    "### Expansive Path\n",
    "\n",
    "u6 = tf.keras.layers.Conv2DTranspose(128, (2,2), strides = (2,2), padding = 'same')(c5)\n",
    "u6 = tf.keras.layers.concatenate([u6, c4])\n",
    "c6 = tf.keras.layers.Conv2D(128, (3,3), activation = 'relu', kernel_initializer = 'he_normal', padding = 'same')(u6)\n",
    "c6 = tf.keras.layers.Dropout(0.2)(c6)\n",
    "c6 = tf.keras.layers.Conv2D(128, (3,3), activation = 'relu', kernel_initializer = 'he_normal', padding = 'same')(c6)\n",
    "\n",
    "u7 = tf.keras.layers.Conv2DTranspose(64, (2,2), strides = (2,2), padding = 'same')(c6)\n",
    "u7 = tf.keras.layers.concatenate([u7, c3])\n",
    "c7 = tf.keras.layers.Conv2D(64, (3, 3), activation = 'relu', kernel_initializer = 'he_normal', padding = 'same')(u7)\n",
    "c7 = tf.keras.layers.Dropout(0.2)(c7)\n",
    "c7 = tf.keras.layers.Conv2D(64, (3, 3), activation = 'relu', kernel_initializer = 'he_normal', padding = 'same')(c7)\n",
    "\n",
    "u8 = tf.keras.layers.Conv2DTranspose(32, (2, 2), strides = (2, 2), padding = 'same')(c7)\n",
    "u8 = tf.keras.layers.concatenate([u8, c2])\n",
    "c8 = tf.keras.layers.Conv2D(32, (3,3), activation = 'relu', kernel_initializer = 'he_normal', padding = 'same')(u8)\n",
    "c8 = tf.keras.layers.Dropout(0.1)(c8)\n",
    "c8 = tf.keras.layers.Conv2D(32, (3,3), activation = 'relu', kernel_initializer = 'he_normal', padding = 'same')(c8)\n",
    "\n",
    "u9 = tf.keras.layers.Conv2DTranspose(16, (2,2), strides = (2,2), padding = 'same')(u8)\n",
    "u9 = tf.keras.layers.concatenate([u9, c1], axis = 3)\n",
    "c9 = tf.keras.layers.Conv2D(16, (3,3), activation = 'relu', kernel_initializer = 'he_normal', padding = 'same')(u9)\n",
    "c9 = tf.keras.layers.Dropout(0.1)(c9)\n",
    "c9 = tf.keras.layers.Conv2D(16, (3,3), activation = 'relu', kernel_initializer = 'he_normal', padding = 'same')(c9)\n",
    "\n",
    "outputs = tf.keras.layers.Conv2D(1, (1, 1), activation = 'sigmoid')(c9)\n",
    "\n",
    "\n",
    "\n",
    "### MODEL\n",
    "\n",
    "model = tf.keras.Model(inputs = [inputs], outputs = [outputs])\n",
    "model.compile(optimizer = 'adam', loss = 'binary_crossentropy', metrics = ['accuracy'])\n",
    "model.summary()"
   ]
  },
  {
   "cell_type": "code",
   "execution_count": 67,
   "metadata": {},
   "outputs": [],
   "source": [
    "### Model Checkpoint\n",
    "checkpointer = tf.keras.callbacks.ModelCheckpoint('model_for_segmentation.hy', verbose=1, save_best_only=True)\n",
    "\n",
    "callbacks = [\n",
    "    tf.keras.callbacks.EarlyStopping(patience=2, monitor='val_loss'),\n",
    "    tf.keras.callbacks.TensorBoard(log_dir = 'logs')\n",
    "]"
   ]
  },
  {
   "cell_type": "code",
   "execution_count": 68,
   "metadata": {},
   "outputs": [
    {
     "name": "stdout",
     "output_type": "stream",
     "text": [
      "Epoch 1/5\n",
      "36/36 [==============================] - 67s 2s/step - loss: 0.5494 - accuracy: 0.7860 - val_loss: 0.3787 - val_accuracy: 0.8085\n",
      "Epoch 2/5\n",
      "36/36 [==============================] - 66s 2s/step - loss: 0.3022 - accuracy: 0.8244 - val_loss: 0.2170 - val_accuracy: 0.9044\n",
      "Epoch 3/5\n",
      "36/36 [==============================] - 73s 2s/step - loss: 0.2121 - accuracy: 0.9184 - val_loss: 0.1708 - val_accuracy: 0.9384\n",
      "Epoch 4/5\n",
      "36/36 [==============================] - 62s 2s/step - loss: 0.1573 - accuracy: 0.9444 - val_loss: 0.1479 - val_accuracy: 0.9479\n",
      "Epoch 5/5\n",
      "36/36 [==============================] - 55s 2s/step - loss: 0.1383 - accuracy: 0.9517 - val_loss: 0.1281 - val_accuracy: 0.9520\n"
     ]
    }
   ],
   "source": [
    "results = model.fit(X_train, Y_train, validation_split=0.15, batch_size = 16, epochs = 5, callbacks=callbacks)"
   ]
  },
  {
   "cell_type": "code",
   "execution_count": null,
   "metadata": {},
   "outputs": [],
   "source": []
  },
  {
   "cell_type": "markdown",
   "metadata": {},
   "source": [
    "#### Predictions/Results"
   ]
  },
  {
   "cell_type": "code",
   "execution_count": 69,
   "metadata": {},
   "outputs": [],
   "source": [
    "idx = random.randint(0, len(X_train))"
   ]
  },
  {
   "cell_type": "code",
   "execution_count": 70,
   "metadata": {},
   "outputs": [
    {
     "name": "stdout",
     "output_type": "stream",
     "text": [
      "19/19 [==============================] - 10s 499ms/step\n",
      "3/3 [==============================] - 1s 249ms/step\n",
      "3/3 [==============================] - 1s 234ms/step\n"
     ]
    }
   ],
   "source": [
    "preds_train = model.predict(X_train[:int(X_train.shape[0]*0.9)], verbose=1)\n",
    "preds_val = model.predict(X_train[int(X_train.shape[0]*0.9):], verbose=1)\n",
    "preds_test = model.predict(X_test, verbose=1)"
   ]
  },
  {
   "cell_type": "code",
   "execution_count": 71,
   "metadata": {},
   "outputs": [],
   "source": [
    "preds_train_t = (preds_train > 0.5).astype(np.uint8)\n",
    "preds_val_t = (preds_val > 0.5).astype(np.uint8)\n",
    "preds_test_t = (preds_test > 0.5).astype(np.uint8)"
   ]
  },
  {
   "cell_type": "code",
   "execution_count": 74,
   "metadata": {},
   "outputs": [
    {
     "data": {
      "image/png": "[encoded data removed]",
      "text/plain": [
       "<Figure size 432x288 with 1 Axes>"
      ]
     },
     "metadata": {
      "needs_background": "light"
     },
     "output_type": "display_data"
    },
    {
     "data": {
      "image/png": "[encoded data removed]",
      "text/plain": [
       "<Figure size 432x288 with 1 Axes>"
      ]
     },
     "metadata": {
      "needs_background": "light"
     },
     "output_type": "display_data"
    },
    {
     "name": "stderr",
     "output_type": "stream",
     "text": [
      "C:\\Users\\Md Zishan Ansari\\anaconda3\\lib\\site-packages\\skimage\\io\\_plugins\\matplotlib_plugin.py:150: UserWarning: Low image data range; displaying image with stretched contrast.\n",
      "  lo, hi, cmap = _get_display_range(image)\n"
     ]
    },
    {
     "data": {
      "image/png": "[encoded data removed]",
      "text/plain": [
       "<Figure size 432x288 with 2 Axes>"
      ]
     },
     "metadata": {
      "needs_background": "light"
     },
     "output_type": "display_data"
    }
   ],
   "source": [
    "# Perform sanity check on some training samples\n",
    "\n",
    "ix = random.randint(0, len(preds_train_t))\n",
    "imshow(X_train[ix])\n",
    "plt.show()\n",
    "imshow(np.squeeze(Y_train[ix]))\n",
    "plt.show()\n",
    "imshow(np.squeeze(preds_train_t[ix]))\n",
    "plt.show()"
   ]
  },
  {
   "cell_type": "code",
   "execution_count": 76,
   "metadata": {},
   "outputs": [
    {
     "data": {
      "image/png": "[encoded data removed]",
      "text/plain": [
       "<Figure size 432x288 with 1 Axes>"
      ]
     },
     "metadata": {
      "needs_background": "light"
     },
     "output_type": "display_data"
    },
    {
     "data": {
      "image/png": "[encoded data removed]",
      "text/plain": [
       "<Figure size 432x288 with 1 Axes>"
      ]
     },
     "metadata": {
      "needs_background": "light"
     },
     "output_type": "display_data"
    },
    {
     "name": "stderr",
     "output_type": "stream",
     "text": [
      "C:\\Users\\Md Zishan Ansari\\anaconda3\\lib\\site-packages\\skimage\\io\\_plugins\\matplotlib_plugin.py:150: UserWarning: Low image data range; displaying image with stretched contrast.\n",
      "  lo, hi, cmap = _get_display_range(image)\n"
     ]
    },
    {
     "data": {
      "image/png": "[encoded data removed]",
      "text/plain": [
       "<Figure size 432x288 with 2 Axes>"
      ]
     },
     "metadata": {
      "needs_background": "light"
     },
     "output_type": "display_data"
    }
   ],
   "source": [
    "# Perform a sanity check on some Validation samples\n",
    "\n",
    "\n",
    "ix = random.randint(0, len(preds_val_t))\n",
    "imshow(X_train[int(X_train.shape[0]*0.9):][ix])\n",
    "plt.show()\n",
    "imshow(np.squeeze(Y_train[int(Y_train.shape[0]*0.9):][ix]))\n",
    "plt.show()\n",
    "imshow(np.squeeze(preds_val_t[ix]))\n",
    "plt.show()"
   ]
  },
  {
   "cell_type": "code",
   "execution_count": null,
   "metadata": {},
   "outputs": [],
   "source": []
  },
  {
   "cell_type": "code",
   "execution_count": null,
   "metadata": {},
   "outputs": [],
   "source": []
  },
  {
   "cell_type": "code",
   "execution_count": null,
   "metadata": {},
   "outputs": [],
   "source": []
  },
  {
   "cell_type": "code",
   "execution_count": null,
   "metadata": {},
   "outputs": [],
   "source": []
  },
  {
   "cell_type": "code",
   "execution_count": null,
   "metadata": {},
   "outputs": [],
   "source": []
  },
  {
   "cell_type": "code",
   "execution_count": null,
   "metadata": {},
   "outputs": [],
   "source": []
  },
  {
   "cell_type": "code",
   "execution_count": null,
   "metadata": {},
   "outputs": [],
   "source": []
  },
  {
   "cell_type": "code",
   "execution_count": null,
   "metadata": {},
   "outputs": [],
   "source": []
  },
  {
   "cell_type": "code",
   "execution_count": null,
   "metadata": {},
   "outputs": [],
   "source": []
  },
  {
   "cell_type": "code",
   "execution_count": null,
   "metadata": {},
   "outputs": [],
   "source": []
  },
  {
   "cell_type": "code",
   "execution_count": null,
   "metadata": {},
   "outputs": [],
   "source": []
  },
  {
   "cell_type": "code",
   "execution_count": null,
   "metadata": {},
   "outputs": [],
   "source": []
  },
  {
   "cell_type": "code",
   "execution_count": null,
   "metadata": {},
   "outputs": [],
   "source": []
  },
  {
   "cell_type": "code",
   "execution_count": null,
   "metadata": {},
   "outputs": [],
   "source": []
  },
  {
   "cell_type": "code",
   "execution_count": null,
   "metadata": {},
   "outputs": [],
   "source": []
  },
  {
   "cell_type": "code",
   "execution_count": null,
   "metadata": {},
   "outputs": [],
   "source": []
  },
  {
   "cell_type": "code",
   "execution_count": null,
   "metadata": {},
   "outputs": [],
   "source": []
  },
  {
   "cell_type": "code",
   "execution_count": null,
   "metadata": {},
   "outputs": [],
   "source": []
  },
  {
   "cell_type": "code",
   "execution_count": null,
   "metadata": {},
   "outputs": [],
   "source": []
  },
  {
   "cell_type": "code",
   "execution_count": null,
   "metadata": {},
   "outputs": [],
   "source": []
  },
  {
   "cell_type": "code",
   "execution_count": null,
   "metadata": {},
   "outputs": [],
   "source": []
  },
  {
   "cell_type": "code",
   "execution_count": null,
   "metadata": {},
   "outputs": [],
   "source": []
  },
  {
   "cell_type": "code",
   "execution_count": null,
   "metadata": {},
   "outputs": [],
   "source": []
  },
  {
   "cell_type": "code",
   "execution_count": null,
   "metadata": {},
   "outputs": [],
   "source": []
  },
  {
   "cell_type": "code",
   "execution_count": null,
   "metadata": {},
   "outputs": [],
   "source": []
  },
  {
   "cell_type": "code",
   "execution_count": null,
   "metadata": {},
   "outputs": [],
   "source": []
  },
  {
   "cell_type": "code",
   "execution_count": null,
   "metadata": {},
   "outputs": [],
   "source": []
  },
  {
   "cell_type": "code",
   "execution_count": null,
   "metadata": {},
   "outputs": [],
   "source": []
  },
  {
   "cell_type": "code",
   "execution_count": null,
   "metadata": {},
   "outputs": [],
   "source": []
  },
  {
   "cell_type": "code",
   "execution_count": null,
   "metadata": {},
   "outputs": [],
   "source": []
  },
  {
   "cell_type": "code",
   "execution_count": null,
   "metadata": {},
   "outputs": [],
   "source": []
  },
  {
   "cell_type": "code",
   "execution_count": null,
   "metadata": {},
   "outputs": [],
   "source": []
  }
 ],
 "metadata": {
  "kernelspec": {
   "display_name": "Python 3",
   "language": "python",
   "name": "python3"
  },
  "language_info": {
   "codemirror_mode": {
    "name": "ipython",
    "version": 3
   },
   "file_extension": ".py",
   "mimetype": "text/x-python",
   "name": "python",
   "nbconvert_exporter": "python",
   "pygments_lexer": "ipython3",
   "version": "3.8.5"
  }
 },
 "nbformat": 4,
 "nbformat_minor": 4
}
